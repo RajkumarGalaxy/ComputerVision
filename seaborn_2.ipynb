# python code
# visualization using seaborn
import seaborn as sns
import matplotlib.pyplot as plt
